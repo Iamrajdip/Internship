{
 "cells": [
  {
   "cell_type": "markdown",
   "id": "94a2728d",
   "metadata": {},
   "source": [
    "# Regular Expressions"
   ]
  },
  {
   "cell_type": "markdown",
   "id": "8c5d2ccd",
   "metadata": {},
   "source": [
    "Question 1- Write a Python program to check that a string contains only a certain set of characters (in this case a-z, A-Z and 0-9)."
   ]
  },
  {
   "cell_type": "code",
   "execution_count": 8,
   "id": "aab190d1",
   "metadata": {},
   "outputs": [
    {
     "name": "stdout",
     "output_type": "stream",
     "text": [
      "True\n",
      "False\n"
     ]
    }
   ],
   "source": [
    "import re\n",
    "\n",
    "def check_characters(input_string):\n",
    "    pattern = r'^[a-zA-Z0-9]+$'\n",
    "    \n",
    "    if re.match(pattern, input_string):\n",
    "        \n",
    "     return True\n",
    "    else:\n",
    "     return False\n",
    "\n",
    "print(check_characters(\"Hellopython3\"))\n",
    "print(check_characters(\"Helloworld!\"))"
   ]
  },
  {
   "cell_type": "markdown",
   "id": "aeca3e7b",
   "metadata": {},
   "source": [
    "Question 2- Create a function in python that matches a string that has an a followed by zero or more b's"
   ]
  },
  {
   "cell_type": "code",
   "execution_count": 12,
   "id": "6fd5e546",
   "metadata": {},
   "outputs": [
    {
     "name": "stdout",
     "output_type": "stream",
     "text": [
      "True\n",
      "False\n",
      "True\n"
     ]
    }
   ],
   "source": [
    "def match_pattern(input_string):\n",
    "    pattern = r'^ab*$'\n",
    "    if re.match(pattern, input_string):\n",
    "     return True\n",
    "    else:\n",
    "     return False\n",
    "print(match_pattern(\"abbb\"))\n",
    "print(match_pattern(\"baaa\"))\n",
    "print(match_pattern(\"a\"))\n",
    "\n",
    "    \n",
    "    "
   ]
  },
  {
   "cell_type": "markdown",
   "id": "937babb8",
   "metadata": {},
   "source": [
    "Question 3-Create a function in python that matches a string that has an a followed by one or more b's"
   ]
  },
  {
   "cell_type": "code",
   "execution_count": 15,
   "id": "191b1b3c",
   "metadata": {},
   "outputs": [
    {
     "name": "stdout",
     "output_type": "stream",
     "text": [
      "False\n",
      "False\n",
      "True\n"
     ]
    }
   ],
   "source": [
    "def match_pattern(input_string):\n",
    "    pattern = r'^ab+$'\n",
    "    if re.match(pattern, input_string):\n",
    "     return True\n",
    "    else:\n",
    "     return False\n",
    "print(match_pattern(\"b\"))\n",
    "print(match_pattern(\"bbba\"))\n",
    "print(match_pattern(\"abbb\"))"
   ]
  },
  {
   "cell_type": "markdown",
   "id": "b4b5c972",
   "metadata": {},
   "source": [
    "Question 4- Create a function in Python and use RegEx that matches a string that has an a followed by zero or one 'b'."
   ]
  },
  {
   "cell_type": "code",
   "execution_count": 17,
   "id": "993f3cd9",
   "metadata": {},
   "outputs": [
    {
     "name": "stdout",
     "output_type": "stream",
     "text": [
      "True\n",
      "False\n",
      "False\n",
      "False\n"
     ]
    }
   ],
   "source": [
    "def match_pattern(input_string):\n",
    "    pattern = r'^ab?$'\n",
    "    if re.match(pattern, input_string):\n",
    "     return True\n",
    "    else:\n",
    "     return False\n",
    "print(match_pattern(\"a\"))\n",
    "print(match_pattern(\"b\"))\n",
    "print(match_pattern(\"bbba\"))\n",
    "print(match_pattern(\"abbb\"))"
   ]
  },
  {
   "cell_type": "markdown",
   "id": "330840c6",
   "metadata": {},
   "source": [
    "Question 5- Write a Python program that matches a string that has an a followed by three 'b'."
   ]
  },
  {
   "cell_type": "code",
   "execution_count": 18,
   "id": "c211bef1",
   "metadata": {},
   "outputs": [
    {
     "name": "stdout",
     "output_type": "stream",
     "text": [
      "False\n",
      "False\n",
      "False\n",
      "True\n"
     ]
    }
   ],
   "source": [
    "def match_pattern(input_string):\n",
    "    pattern = r'^abbb$'\n",
    "    if re.match(pattern, input_string):\n",
    "     return True\n",
    "    else:\n",
    "     return False\n",
    "print(match_pattern(\"a\"))\n",
    "print(match_pattern(\"b\"))\n",
    "print(match_pattern(\"bbba\"))\n",
    "print(match_pattern(\"abbb\"))"
   ]
  },
  {
   "cell_type": "markdown",
   "id": "eb216397",
   "metadata": {},
   "source": [
    "Question 6- Write a regular expression in Python to split a string into uppercase letters.\n",
    "Sample text: “ImportanceOfRegularExpressionsInPython”\n",
    "Output: [‘Importance’, ‘Of’, ‘Regular’, ‘Expression’, ‘In’, ‘Python’]\n"
   ]
  },
  {
   "cell_type": "code",
   "execution_count": 22,
   "id": "2870c0e6",
   "metadata": {},
   "outputs": [
    {
     "name": "stdout",
     "output_type": "stream",
     "text": [
      "['Importance', 'Of', 'Regular', 'Expressions', 'In', 'Python']\n"
     ]
    }
   ],
   "source": [
    "def split_uppercase(input_string):\n",
    " words = re.findall(r'[A-Z][a-z]*',input_string)\n",
    " return words\n",
    "sample_text = \"ImportanceOfRegularExpressionsInPython\"\n",
    "result = split_uppercase(sample_text)\n",
    "print(result)"
   ]
  },
  {
   "cell_type": "markdown",
   "id": "a28487b1",
   "metadata": {},
   "source": [
    "Question 7- Write a Python program that matches a string that has an a followed by two to three 'b'."
   ]
  },
  {
   "cell_type": "code",
   "execution_count": 25,
   "id": "30e19eb7",
   "metadata": {},
   "outputs": [
    {
     "name": "stdout",
     "output_type": "stream",
     "text": [
      "True\n",
      "False\n",
      "False\n",
      "True\n"
     ]
    }
   ],
   "source": [
    "def match_pattern(input_string):\n",
    "    pattern = r'^ab{2,3}$'\n",
    "    if re.match(pattern, input_string):\n",
    "     return True\n",
    "    else:\n",
    "     return False\n",
    "print(match_pattern(\"abb\"))\n",
    "print(match_pattern(\"bb\"))\n",
    "print(match_pattern(\"bbab\"))\n",
    "print(match_pattern(\"abbb\"))"
   ]
  },
  {
   "cell_type": "markdown",
   "id": "8f55767c",
   "metadata": {},
   "source": [
    "Question 8- Write a Python program to find sequences of lowercase letters joined with a underscore."
   ]
  },
  {
   "cell_type": "code",
   "execution_count": 51,
   "id": "8ae07272",
   "metadata": {},
   "outputs": [
    {
     "name": "stdout",
     "output_type": "stream",
     "text": [
      "['sequence_of_lowercase_letters']\n"
     ]
    }
   ],
   "source": [
    "def find_lowercase_sequences(input_string):\n",
    "    pattern = r'[a-z+_a-z]+'\n",
    "    sequences = re.findall(pattern, input_string)\n",
    "    return sequences\n",
    "    \n",
    "sample_text = \"sequence_of_lowercase_letters\"\n",
    "result = find_lowercase_sequences(sample_text)\n",
    "print(result)"
   ]
  },
  {
   "cell_type": "markdown",
   "id": "b9da0f46",
   "metadata": {},
   "source": [
    "Question 9- Write a Python program that matches a string that has an 'a' followed by anything, ending in 'b'."
   ]
  },
  {
   "cell_type": "code",
   "execution_count": 52,
   "id": "c35f8041",
   "metadata": {},
   "outputs": [
    {
     "name": "stdout",
     "output_type": "stream",
     "text": [
      "True\n",
      "False\n",
      "True\n",
      "False\n"
     ]
    }
   ],
   "source": [
    "def match_pattern(input_string):\n",
    "    pattern = r'^a.*b$'\n",
    "    if re.match(pattern, input_string):\n",
    "     return True\n",
    "    else:\n",
    "     return False\n",
    "print(match_pattern(\"ab\"))\n",
    "print(match_pattern(\"abc\"))\n",
    "print(match_pattern(\"a_b\"))\n",
    "print(match_pattern(\"a_b_c\"))"
   ]
  },
  {
   "cell_type": "markdown",
   "id": "503bf80e",
   "metadata": {},
   "source": [
    "Question 10- Write a Python program that matches a word at the beginning of a string."
   ]
  },
  {
   "cell_type": "code",
   "execution_count": 63,
   "id": "16ebd7a1",
   "metadata": {},
   "outputs": [
    {
     "name": "stdout",
     "output_type": "stream",
     "text": [
      "True\n",
      "False\n",
      "True\n"
     ]
    }
   ],
   "source": [
    "def match_beginning_word(word, input_string):\n",
    "    pattern = rf'^\\b{re.escape(word)}'\n",
    "    match = re.search(pattern, input_string)\n",
    "    if match:\n",
    "        return True\n",
    "    else:\n",
    "        return False\n",
    "word_to_find = \"hello\"\n",
    "\n",
    "print(match_beginning_word(word_to_find, \"hello python\"))\n",
    "print(match_beginning_word(word_to_find, \"hi hello\"))      \n",
    "print(match_beginning_word(word_to_find, \"hello!!! how are you\")) "
   ]
  },
  {
   "cell_type": "markdown",
   "id": "d98d0e2b",
   "metadata": {},
   "source": [
    "Question 11- Write a Python program to match a string that contains only upper and lowercase letters, numbers, and underscores."
   ]
  },
  {
   "cell_type": "code",
   "execution_count": 65,
   "id": "6573cd35",
   "metadata": {},
   "outputs": [
    {
     "name": "stdout",
     "output_type": "stream",
     "text": [
      "True\n",
      "False\n",
      "False\n",
      "True\n"
     ]
    }
   ],
   "source": [
    "def match_pattern(input_string):\n",
    "    pattern = r'^[a-zA-z0-9]+$'\n",
    "    if re.match(pattern, input_string):\n",
    "     return True\n",
    "    else:\n",
    "     return False\n",
    "print(match_pattern(\"hello_python\"))\n",
    "print(match_pattern(\"hello!!\"))\n",
    "print(match_pattern(\"hello world\"))\n",
    "print(match_pattern(\"wolrd_war3\"))"
   ]
  },
  {
   "cell_type": "markdown",
   "id": "5e9b46aa",
   "metadata": {},
   "source": [
    "Question 12- Write a Python program where a string will start with a specific number. "
   ]
  },
  {
   "cell_type": "code",
   "execution_count": 75,
   "id": "28dc7124",
   "metadata": {},
   "outputs": [
    {
     "name": "stdout",
     "output_type": "stream",
     "text": [
      "True\n",
      "False\n",
      "False\n"
     ]
    }
   ],
   "source": [
    "def starts_with_number(input_string,specific_number):\n",
    "    specific_number = str(specific_number)\n",
    "    if input_string.startswith(specific_number):\n",
    "        return True\n",
    "    else:\n",
    "        return False\n",
    "    \n",
    "print(starts_with_number(\"55 is a number\",55))\n",
    "print(starts_with_number(\"007 James Born\",700))\n",
    "print(starts_with_number(\"007 James Born\",7))"
   ]
  },
  {
   "cell_type": "markdown",
   "id": "c76ab946",
   "metadata": {},
   "source": [
    "Question 13 leading zeros from an IP address - Write a Python program to remove "
   ]
  },
  {
   "cell_type": "code",
   "execution_count": 78,
   "id": "fd0008d2",
   "metadata": {},
   "outputs": [
    {
     "name": "stdout",
     "output_type": "stream",
     "text": [
      "7\n",
      "123\n",
      "101010\n"
     ]
    }
   ],
   "source": [
    "def remove_leading_zeros(input_string):\n",
    "    return input_string.lstrip(\"0\")\n",
    "print(remove_leading_zeros(\"007\"))\n",
    "print(remove_leading_zeros(\"00123\"))\n",
    "print(remove_leading_zeros(\"0101010\"))"
   ]
  },
  {
   "cell_type": "markdown",
   "id": "c2e839c5",
   "metadata": {},
   "source": [
    "Question 14- Write a regular expression in python to match a date string in the form of Month name followed by day number and year stored in a text file\n",
    "Sample text : ' On August 15th 1947 that India was declared independent from British colonialism, and the reins of control were handed over to the leaders of the Country’.\n",
    "Output- August 15th 1947\n"
   ]
  },
  {
   "cell_type": "code",
   "execution_count": 115,
   "id": "864cdef4",
   "metadata": {},
   "outputs": [],
   "source": [
    "sample_text =\"\"\"On August 15th 1947 that India was declared independent from British colonialism, and the reins of control were handed over to the leaders of the Country.\"\"\"\n",
    "\n",
    "with open(\"sample_text.txt\",\"w\") as file:\n",
    "    file.write(sample_text)"
   ]
  },
  {
   "cell_type": "code",
   "execution_count": 117,
   "id": "598d6dcb",
   "metadata": {},
   "outputs": [
    {
     "name": "stdout",
     "output_type": "stream",
     "text": [
      "August 15th 1947\n"
     ]
    }
   ],
   "source": [
    "def find_date_in_content(content):\n",
    "    pattern = r'\\b(?:January|February|March|April|May|June|July|August|September|October|November|December)\\s+\\d{1,2}(?:st|nd|rd|th)?\\s+\\d{4}\\b'\n",
    "    \n",
    "\n",
    "    match = re.search(pattern, content)\n",
    "    if match:\n",
    "        return match.group()\n",
    "    else:\n",
    "        return  None\n",
    "\n",
    "with open('sample_text.txt', 'r') as file:\n",
    "    content = file.read()\n",
    "\n",
    "date_found = find_date_in_content(content)\n",
    "print(date_found)\n"
   ]
  },
  {
   "cell_type": "markdown",
   "id": "50369d4e",
   "metadata": {},
   "source": [
    "Question 15- Write a Python program to search some literals strings in a string. Go to the editor\n",
    "Sample text : 'The quick brown fox jumps over the lazy dog.'\n",
    "Searched words : 'fox', 'dog', 'horse'\n"
   ]
  },
  {
   "cell_type": "code",
   "execution_count": 122,
   "id": "4dfccd39",
   "metadata": {},
   "outputs": [
    {
     "name": "stdout",
     "output_type": "stream",
     "text": [
      "Found words: ['fox', 'dog']\n"
     ]
    }
   ],
   "source": [
    "def search_words(text, searched_words):\n",
    "    found_words = []\n",
    "    for word in searched_words:\n",
    "        if re.search(r'\\b' + re.escape(word) + r'\\b', text):\n",
    "            found_words.append(word)\n",
    "    return found_words\n",
    "\n",
    "sample_text = 'The quick brown fox jumps over the lazy dog.'\n",
    "searched_words = ['fox', 'dog', 'horse']\n",
    "\n",
    "result = search_words(sample_text, searched_words)\n",
    "print(\"Found words:\", result)\n"
   ]
  },
  {
   "cell_type": "markdown",
   "id": "05d8a217",
   "metadata": {},
   "source": [
    "Question 16- Write a Python program to search a literals string in a string and also find the location within the original string where the pattern occurs\n",
    "Sample text : 'The quick brown fox jumps over the lazy dog.'\n",
    "Searched words : 'fox'\n"
   ]
  },
  {
   "cell_type": "code",
   "execution_count": 123,
   "id": "2bd12aa2",
   "metadata": {},
   "outputs": [
    {
     "name": "stdout",
     "output_type": "stream",
     "text": [
      "Found locations: [16]\n"
     ]
    }
   ],
   "source": [
    "def search_word(text, searched_word):\n",
    "    found_locations = [match.start() for match in re.finditer(re.escape(searched_word), text)]\n",
    "    return found_locations\n",
    "\n",
    "sample_text = 'The quick brown fox jumps over the lazy dog.'\n",
    "searched_word = 'fox'\n",
    "\n",
    "result = search_word(sample_text, searched_word)\n",
    "print(\"Found locations:\", result)\n"
   ]
  },
  {
   "cell_type": "markdown",
   "id": "7f760100",
   "metadata": {},
   "source": [
    "Question 17- Write a Python program to find the substrings within a string.\n",
    "Sample text : 'Python exercises, PHP exercises, C# exercises'\n",
    "Pattern : 'exercises'.\n"
   ]
  },
  {
   "cell_type": "code",
   "execution_count": 124,
   "id": "51e2f424",
   "metadata": {},
   "outputs": [
    {
     "name": "stdout",
     "output_type": "stream",
     "text": [
      "Found substrings: ['exercises', 'exercises', 'exercises']\n"
     ]
    }
   ],
   "source": [
    "def find_substrings(text, pattern):\n",
    "    found_substrings = re.findall(pattern, text)\n",
    "    return found_substrings\n",
    "\n",
    "sample_text = 'Python exercises, PHP exercises, C# exercises'\n",
    "pattern = 'exercises'\n",
    "\n",
    "result = find_substrings(sample_text, pattern)\n",
    "print(\"Found substrings:\", result)\n"
   ]
  },
  {
   "cell_type": "markdown",
   "id": "0d4f79df",
   "metadata": {},
   "source": [
    "Question 18- Write a Python program to find the occurrence and position of the substrings within a string."
   ]
  },
  {
   "cell_type": "code",
   "execution_count": 125,
   "id": "ac2105a5",
   "metadata": {},
   "outputs": [
    {
     "name": "stdout",
     "output_type": "stream",
     "text": [
      "Found substrings and positions: [('exercises', 7), ('exercises', 22), ('exercises', 36)]\n"
     ]
    }
   ],
   "source": [
    "def find_occurrence_and_position(text, pattern):\n",
    "    found_substrings = [(match.group(), match.start()) for match in re.finditer(pattern, text)]\n",
    "    return found_substrings\n",
    "\n",
    "sample_text = 'Python exercises, PHP exercises, C# exercises'\n",
    "pattern = 'exercises'\n",
    "\n",
    "result = find_occurrence_and_position(sample_text, pattern)\n",
    "print(\"Found substrings and positions:\", result)\n"
   ]
  },
  {
   "cell_type": "markdown",
   "id": "ebfc7276",
   "metadata": {},
   "source": [
    "Question 19- Write a Python program to convert a date of yyyy-mm-dd format to dd-mm-yyyy format."
   ]
  },
  {
   "cell_type": "code",
   "execution_count": 127,
   "id": "4e6aa3de",
   "metadata": {},
   "outputs": [
    {
     "name": "stdout",
     "output_type": "stream",
     "text": [
      "Converted date: 12-07-2023\n"
     ]
    }
   ],
   "source": [
    "def convert_date(date_str):\n",
    "    match = re.match(r'(\\d{4})-(\\d{2})-(\\d{2})', date_str)\n",
    "    if match:\n",
    "        year, month, day = match.groups()\n",
    "        converted_date = f'{day}-{month}-{year}'\n",
    "        return converted_date\n",
    "    else:\n",
    "        return \"Invalid date format. Please provide 'yyyy-mm-dd'.\"\n",
    "\n",
    "date_str = '2023-07-12'\n",
    "converted_date = convert_date(date_str)\n",
    "print(\"Converted date:\", converted_date)\n"
   ]
  },
  {
   "cell_type": "markdown",
   "id": "accea451",
   "metadata": {},
   "source": [
    "Question 20- Write a Python program to find all words starting with 'a' or 'e' in a given string."
   ]
  },
  {
   "cell_type": "code",
   "execution_count": 129,
   "id": "eec250d6",
   "metadata": {},
   "outputs": [
    {
     "name": "stdout",
     "output_type": "stream",
     "text": [
      "Words starting with 'a' or 'e': ['Avocet', 'and', 'elephant', 'are', 'eating', 'an', 'avocado']\n"
     ]
    }
   ],
   "source": [
    "def find_words_starting_with_a_or_e_words(text):\n",
    "    words_with_a_or_e = re.findall(r'\\b[aeAE]\\w*\\b', text)\n",
    "    return words_with_a_or_e\n",
    "\n",
    "sample_text = 'Avocet and elephant are eating an avocado.'\n",
    "result = find_words_starting_with_a_or_e_words(sample_text)\n",
    "print(\"Words starting with 'a' or 'e':\", result)\n"
   ]
  },
  {
   "cell_type": "markdown",
   "id": "a55964ff",
   "metadata": {},
   "source": [
    "Question 21- Write a Python program to separate and print the numbers and their position of a given string"
   ]
  },
  {
   "cell_type": "markdown",
   "id": "8f41bb68",
   "metadata": {},
   "source": [
    "Question 22- Write a regular expression in python program to extract maximum numeric value from a string."
   ]
  },
  {
   "cell_type": "code",
   "execution_count": 154,
   "id": "f66aa5a1",
   "metadata": {},
   "outputs": [
    {
     "name": "stdout",
     "output_type": "stream",
     "text": [
      "Maximum numeric value: 22\n"
     ]
    }
   ],
   "source": [
    "def maximum_numeric_value(input_string):\n",
    "    pattern = r'\\d+'\n",
    "    numbers = re.findall(pattern, input_string)\n",
    "    if numbers:\n",
    "        max_number = max(map(int, numbers))\n",
    "        return max_number\n",
    "    else:\n",
    "        return None\n",
    "\n",
    "sample_text = 'There are 20 boys, 22 girls, and 3 Teacher.'\n",
    "\n",
    "max_value = maximum_numeric_value(sample_text)\n",
    "\n",
    "print(\"Maximum numeric value:\", max_value)\n"
   ]
  },
  {
   "cell_type": "markdown",
   "id": "942d477a",
   "metadata": {},
   "source": [
    "Question 23- Write a Regex in Python to put spaces between words starting with capital letters."
   ]
  },
  {
   "cell_type": "code",
   "execution_count": 144,
   "id": "1ca62b74",
   "metadata": {},
   "outputs": [
    {
     "name": "stdout",
     "output_type": "stream",
     "text": [
      "Modified text: The Quick Brown Fox Jumps Over The Lazy Dog.\n"
     ]
    }
   ],
   "source": [
    "def insert_spaces_between_capital_words(text):\n",
    "    modified_text = re.sub(r'([a-z])([A-Z])', r'\\1 \\2', text)\n",
    "    modified_text = re.sub(r'([A-Z])([A-Z][a-z])', r'\\1 \\2', modified_text)\n",
    "    return modified_text\n",
    "\n",
    "sample_text = 'TheQuickBrownFoxJumpsOverTheLazyDog.'\n",
    "result = insert_spaces_between_capital_words(sample_text)\n",
    "print(\"Modified text:\", result)\n"
   ]
  },
  {
   "cell_type": "markdown",
   "id": "ba27e1fc",
   "metadata": {},
   "source": [
    "Question 24- Python regex to find sequences of one upper case letter followed by lower case letters."
   ]
  },
  {
   "cell_type": "code",
   "execution_count": 145,
   "id": "08dd461b",
   "metadata": {},
   "outputs": [
    {
     "name": "stdout",
     "output_type": "stream",
     "text": [
      "Sequences of uppercase letters: ['T', 'Q', 'B', 'F', 'J', 'O', 'T', 'L', 'D']\n"
     ]
    }
   ],
   "source": [
    "def find_sequences_of_uppercase(text):\n",
    "    uppercase_sequences = re.findall(r'[A-Z]+', text)\n",
    "    return uppercase_sequences\n",
    "\n",
    "sample_text = 'TheQuickBrownFoxJumpsOverTheLazyDog.'\n",
    "result = find_sequences_of_uppercase(sample_text)\n",
    "print(\"Sequences of uppercase letters:\", result)\n"
   ]
  },
  {
   "cell_type": "markdown",
   "id": "c581133a",
   "metadata": {},
   "source": [
    "Question 25- Write a Python program to remove duplicate words from Sentence using Regular Expression."
   ]
  },
  {
   "cell_type": "code",
   "execution_count": 146,
   "id": "08654e21",
   "metadata": {},
   "outputs": [
    {
     "name": "stdout",
     "output_type": "stream",
     "text": [
      "Sentence without duplicate words: The quick brown fox jumps over lazy\n"
     ]
    }
   ],
   "source": [
    "def remove_duplicate_words(sentence):\n",
    "    words = re.findall(r'\\b(\\w+)\\b', sentence)\n",
    "    unique_words = set()\n",
    "    result = []\n",
    "    for word in words:\n",
    "        if word.lower() not in unique_words:\n",
    "            unique_words.add(word.lower())\n",
    "            result.append(word)\n",
    "    return ' '.join(result)\n",
    "\n",
    "sample_sentence = 'The quick brown fox jumps over the lazy brown fox.'\n",
    "result = remove_duplicate_words(sample_sentence)\n",
    "print(\"Sentence without duplicate words:\", result)\n"
   ]
  },
  {
   "cell_type": "markdown",
   "id": "1152e004",
   "metadata": {},
   "source": [
    "Question 26-  Write a python program using RegEx to accept string ending with alphanumeric character."
   ]
  },
  {
   "cell_type": "code",
   "execution_count": 147,
   "id": "a41f4fe1",
   "metadata": {},
   "outputs": [
    {
     "name": "stdout",
     "output_type": "stream",
     "text": [
      "String ends with an alphanumeric character.\n"
     ]
    }
   ],
   "source": [
    "def is_ending_with_alphanumeric(input_string):\n",
    "    pattern = r\".*[a-zA-Z0-9]$\"\n",
    "    return bool(re.match(pattern, input_string))\n",
    "\n",
    "test_string = \"Hello123\"\n",
    "if is_ending_with_alphanumeric(test_string):\n",
    "    print(\"String ends with an alphanumeric character.\")\n",
    "else:\n",
    "    print(\"String does not end with an alphanumeric character.\")\n"
   ]
  },
  {
   "cell_type": "markdown",
   "id": "af57f893",
   "metadata": {},
   "source": [
    "Question 27-Write a python program using RegEx to extract the hashtags.\n",
    "\n",
    "Sample Text: text = \"\"\"RT @kapil_kausik: #Doltiwal I mean #xyzabc is \"hurt\" by #Demonetization as the same has rendered USELESS <ed><U+00A0><U+00BD><ed><U+00B1><U+0089> \"acquired funds\" No wo\"\"\"\n",
    "Output: ['#Doltiwal', '#xyzabc', '#Demonetization']\n"
   ]
  },
  {
   "cell_type": "code",
   "execution_count": 148,
   "id": "ba9510b4",
   "metadata": {},
   "outputs": [
    {
     "name": "stdout",
     "output_type": "stream",
     "text": [
      "['#Doltiwal', '#xyzabc', '#Demonetization']\n"
     ]
    }
   ],
   "source": [
    "def extract_hashtags(input_text):\n",
    "    pattern = r\"#\\w+\"\n",
    "    return re.findall(pattern, input_text)\n",
    "\n",
    "text = \"\"\"RT @kapil_kausik: #Doltiwal I mean #xyzabc is \"hurt\" by #Demonetization as the same has rendered USELESS <ed><U+00A0><U+00BD><ed><U+00B1> <U+0089> \"acquired funds\" No wo\"\"\"\n",
    "\n",
    "hashtags = extract_hashtags(text)\n",
    "\n",
    "print(hashtags)\n"
   ]
  },
  {
   "cell_type": "markdown",
   "id": "26f40636",
   "metadata": {},
   "source": [
    "Question 28- Write a python program using RegEx to remove <U+..> like symbols\n",
    "Check the below sample text, there are strange symbols something of the sort <U+..> all over the place. You need to come up with a general Regex expression that will cover all such symbols.\n",
    "Sample Text: \"@Jags123456 Bharat band on 28??<ed><U+00A0><U+00BD><ed><U+00B8><U+0082>Those who  are protesting #demonetization  are all different party leaders\"\n",
    "Output: @Jags123456 Bharat band on 28??<ed><ed>Those who  are protesting #demonetization  are all different party leaders\n"
   ]
  },
  {
   "cell_type": "code",
   "execution_count": 149,
   "id": "a04d9079",
   "metadata": {},
   "outputs": [
    {
     "name": "stdout",
     "output_type": "stream",
     "text": [
      "@Jags123456 Bharat band on 28??<ed> <ed>Those who are protesting #demonetization are all different party leaders\n"
     ]
    }
   ],
   "source": [
    "def remove_strange_symbols(input_text):\n",
    "    pattern = r\"<U\\+[A-F0-9]+>\"\n",
    "    return re.sub(pattern, \"\", input_text)\n",
    "\n",
    "text = \"@Jags123456 Bharat band on 28??<ed> <U+00A0><U+00BD><ed><U+00B8><U+0082>Those who are protesting #demonetization are all different party leaders\"\n",
    "\n",
    "cleaned_text = remove_strange_symbols(text)\n",
    "\n",
    "print(cleaned_text)\n"
   ]
  },
  {
   "cell_type": "markdown",
   "id": "ce1a7ff4",
   "metadata": {},
   "source": [
    "\n",
    "Question 29- Write a python program to extract dates from the text stored in the text file.\n",
    "Sample Text: Ron was born on 12-09-1992 and he was admitted to school 15-12-1999.\n",
    "Store this sample text in the file and then extract dates.\n"
   ]
  },
  {
   "cell_type": "code",
   "execution_count": 151,
   "id": "2dac843d",
   "metadata": {},
   "outputs": [],
   "source": [
    "sample_text=\"\"\"Ron was born on 12-09-1992 and he was admitted to school 15-12-1999. Store this sample text in the file and then extract dates.\"\"\"\n",
    "with open(\"sample_text.txt\",\"w\") as file:\n",
    "    file.write(sample_text)"
   ]
  },
  {
   "cell_type": "code",
   "execution_count": 152,
   "id": "316edff7",
   "metadata": {},
   "outputs": [
    {
     "name": "stdout",
     "output_type": "stream",
     "text": [
      "['12-09-1992', '15-12-1999']\n"
     ]
    }
   ],
   "source": [
    "def extract_dates_from_text(file_path):\n",
    "    with open(file_path, 'r') as file:\n",
    "        text = file.read()\n",
    "        pattern = r'\\d{2}-\\d{2}-\\d{4}'\n",
    "        dates = re.findall(pattern, text)\n",
    "        return dates\n",
    "\n",
    "file_path = \"sample_text.txt\"\n",
    "\n",
    "dates_list = extract_dates_from_text(file_path)\n",
    "\n",
    "print(dates_list)\n"
   ]
  },
  {
   "cell_type": "markdown",
   "id": "8c1098d5",
   "metadata": {},
   "source": [
    "Question 30- Write a Python program to replace all occurrences of a space, comma, or dot with a colon.\n",
    "Sample Text- 'Python Exercises, PHP exercises.'\n",
    "Output: Python:Exercises::PHP:exercises:\n"
   ]
  },
  {
   "cell_type": "code",
   "execution_count": 153,
   "id": "18861c53",
   "metadata": {},
   "outputs": [
    {
     "name": "stdout",
     "output_type": "stream",
     "text": [
      "Python:Exercises::PHP:exercises:\n"
     ]
    }
   ],
   "source": [
    "def replace_space_comma_dot_with_colon(input_text):\n",
    "    pattern = r'[ ,.]'\n",
    "    return re.sub(pattern, ':', input_text)\n",
    "\n",
    "sample_text = 'Python Exercises, PHP exercises.'\n",
    "\n",
    "output_text = replace_space_comma_dot_with_colon(sample_text)\n",
    "\n",
    "print(output_text)\n"
   ]
  },
  {
   "cell_type": "code",
   "execution_count": null,
   "id": "a1c1241a",
   "metadata": {},
   "outputs": [],
   "source": []
  }
 ],
 "metadata": {
  "kernelspec": {
   "display_name": "Python 3 (ipykernel)",
   "language": "python",
   "name": "python3"
  },
  "language_info": {
   "codemirror_mode": {
    "name": "ipython",
    "version": 3
   },
   "file_extension": ".py",
   "mimetype": "text/x-python",
   "name": "python",
   "nbconvert_exporter": "python",
   "pygments_lexer": "ipython3",
   "version": "3.9.13"
  }
 },
 "nbformat": 4,
 "nbformat_minor": 5
}
